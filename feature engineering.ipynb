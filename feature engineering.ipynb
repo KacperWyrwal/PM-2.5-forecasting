{
 "cells": [
  {
   "cell_type": "markdown",
   "id": "b0f5d95a",
   "metadata": {},
   "source": [
    "# Dependencies "
   ]
  },
  {
   "cell_type": "code",
   "execution_count": 1,
   "id": "19f4fb7d",
   "metadata": {},
   "outputs": [],
   "source": [
    "import datetime\n",
    "import numpy as np"
   ]
  },
  {
   "cell_type": "markdown",
   "id": "d6675a48",
   "metadata": {},
   "source": [
    "# Overview \n",
    "The following functions are used to convert a datetime object into a vector representing the month, weekday, and hour of the object."
   ]
  },
  {
   "cell_type": "code",
   "execution_count": 2,
   "id": "bd7c1535",
   "metadata": {},
   "outputs": [],
   "source": [
    "def month_to_vec(datetime: datetime.datetime) -> np.array:\n",
    "    \"\"\"\n",
    "    Convert datetime object into one-hot encoded representation of its month.\n",
    "    \"\"\"\n",
    "    vec = np.zeros(12)\n",
    "    vec[datetime.month - 1] = 1\n",
    "    return vec\n",
    "\n",
    "\n",
    "def weekday_to_vec(datetime: datetime.datetime) -> np.array:\n",
    "    \"\"\"\n",
    "    Convert datetime object into one-hot encoded representation of its weekday.\n",
    "    \"\"\"\n",
    "    vec = np.zeros(7)\n",
    "    vec[datetime.weekday()] = 1\n",
    "    return vec\n",
    "\n",
    "\n",
    "def hour_to_vec(datetime: datetime.datetime) -> np.array:\n",
    "    \"\"\"\n",
    "    Convert datetime object into one-hot encoded representation of its hour.\n",
    "    \"\"\"\n",
    "    vec = np.zeros(24)\n",
    "    vec[datetime.hour] = 1\n",
    "    return vec\n",
    "\n",
    "\n",
    "def timestamp_to_vec(datetime: datetime.datetime) -> np.array:\n",
    "    \"\"\"\n",
    "    Convert datetime object into a vector encoding its month, weekday, and hour.\n",
    "    \"\"\"\n",
    "    month_vec = month_to_vec(datetime=datetime)\n",
    "    weekday_vec = weekday_to_vec(datetime=datetime)\n",
    "    hour_vec = hour_to_vec(datetime=datetime)\n",
    "    return np.concatenate((month_vec, weekday_vec, hour_vec))"
   ]
  },
  {
   "cell_type": "markdown",
   "id": "fbca575e",
   "metadata": {},
   "source": [
    "# Example"
   ]
  },
  {
   "cell_type": "code",
   "execution_count": 3,
   "id": "534bdff7",
   "metadata": {},
   "outputs": [
    {
     "name": "stdout",
     "output_type": "stream",
     "text": [
      "The current datetime is 26/08/2022, 15:38:43 with a complete encoding of \n",
      "[0. 0. 0. 0. 0. 0. 0. 1. 0. 0. 0. 0. 0. 0. 0. 0. 1. 0. 0. 0. 0. 0. 0. 0.\n",
      " 0. 0. 0. 0. 0. 0. 0. 0. 0. 0. 1. 0. 0. 0. 0. 0. 0. 0. 0.]\n",
      "The representation of the month August is [0. 0. 0. 0. 0. 0. 0. 1. 0. 0. 0. 0.]\n",
      "The representation of the weekday Friday is [0. 0. 0. 0. 1. 0. 0.]\n",
      "The representation of the hour 15 is [0. 0. 0. 0. 0. 0. 0. 0. 0. 0. 0. 0. 0. 0. 0. 1. 0. 0. 0. 0. 0. 0. 0. 0.]\n",
      "\n"
     ]
    }
   ],
   "source": [
    "t = datetime.datetime.now()\n",
    "\n",
    "print(f\"The current datetime is {t.strftime('%d/%m/%Y, %H:%M:%S')} with a complete encoding of \\n{timestamp_to_vec(t)}\\n\"\\\n",
    "      f\"The representation of the month {t.strftime('%B')} is {month_to_vec(t)}\\n\"\\\n",
    "      f\"The representation of the weekday {t.strftime('%A')} is {weekday_to_vec(t)}\\n\"\\\n",
    "      f\"The representation of the hour {t.strftime('%H')} is {hour_to_vec(t)}\\n\"\\\n",
    "     )"
   ]
  }
 ],
 "metadata": {
  "kernelspec": {
   "display_name": "Python 3 (ipykernel)",
   "language": "python",
   "name": "python3"
  },
  "language_info": {
   "codemirror_mode": {
    "name": "ipython",
    "version": 3
   },
   "file_extension": ".py",
   "mimetype": "text/x-python",
   "name": "python",
   "nbconvert_exporter": "python",
   "pygments_lexer": "ipython3",
   "version": "3.9.13"
  }
 },
 "nbformat": 4,
 "nbformat_minor": 5
}
