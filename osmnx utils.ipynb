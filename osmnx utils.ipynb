{
 "cells": [
  {
   "cell_type": "markdown",
   "id": "5d5f0240",
   "metadata": {},
   "source": [
    "# Dependencies"
   ]
  },
  {
   "cell_type": "code",
   "execution_count": 1,
   "id": "51e5fb00",
   "metadata": {},
   "outputs": [],
   "source": [
    "import numpy as np\n",
    "import networkx as nx\n",
    "\n",
    "from typing import Iterator, Tuple"
   ]
  },
  {
   "cell_type": "markdown",
   "id": "9c22bc78",
   "metadata": {},
   "source": [
    "# Overview \n",
    "The following functions are useful when working with graphs obtained via the osmnx library and generally networkx.Graph object."
   ]
  },
  {
   "cell_type": "code",
   "execution_count": 2,
   "id": "21539471",
   "metadata": {},
   "outputs": [],
   "source": [
    "def extract_node_and_position(G: nx.Graph) -> Iterator[Tuple[int, Tuple[float, float]]]:\n",
    "    \"\"\"\n",
    "    Extracts nodes and their corresponding gps coordinates from a networkx Graph. Note that the nodes in \n",
    "    graph G must have 'x' and 'y' attributes, which is the case for graphs obtained via osmnx.\n",
    "    \"\"\"\n",
    "    for node, attr_dict in G.nodes.data():\n",
    "        yield node, (attr_dict['x'], attr_dict['y'])\n",
    "\n",
    "\n",
    "def extract_positions(G: nx.Graph) -> np.array:\n",
    "    \"\"\"\n",
    "    Extracts gps coordinates of nodes from a networkx Graph. Note that the nodes in \n",
    "    graph G must have 'x' and 'y' attributes, which is the case for graphs obtained via osmnx.\n",
    "    \"\"\"\n",
    "    return np.fromiter((pos for _, pos in extract_node_and_position(G=G)), dtype=np.dtype((float, 2)))\n",
    "\n",
    "\n",
    "def lat_to_meters(lat: float) -> float:\n",
    "    \"\"\"\n",
    "    Converts distance in degrees latitude to meters.\n",
    "    \"\"\"\n",
    "    return lat * 110540\n",
    "\n",
    "\n",
    "def lon_to_meters(lat: float, lon: float) -> float:\n",
    "    \"\"\"\n",
    "    Converts distance in degrees longitude to meters. Note that conversion between longitude and meters \n",
    "    depends on the latitude. \n",
    "    \"\"\"\n",
    "    return lon * (111320 * abs(np.cos(np.radians(lat))))\n",
    "\n",
    "\n",
    "def gps_to_meters(lat: float) -> Tuple[float, float]:\n",
    "    \"\"\"\n",
    "    Returns a tuple of scaling factors between 2d gps coordinates and meters. This can be used to convert \n",
    "    an entire numpy array of longitude and latitude values to meters via multiplication by the returned \n",
    "    tuple.\n",
    "    \"\"\"\n",
    "    return lon_to_meters(lat, 1), lat_to_meters(1)\n",
    "\n",
    "\n",
    "def meters_to_lon(lat: float, m: float) -> float:\n",
    "    \"\"\"\n",
    "    Converts distance in meters to degrees longitude. Note that conversion between meters and longitude \n",
    "    depends on the latitude. \n",
    "    \"\"\"\n",
    "    return m/(111320 * abs(np.cos(np.radians(lat))))\n",
    "\n",
    "\n",
    "def meters_to_lat(m: float):\n",
    "    \"\"\"\n",
    "    Converts distance in meters to degrees latitude. \n",
    "    \"\"\"\n",
    "    return m/110540\n",
    "\n",
    "\n",
    "def meters_to_gps(lat: float) -> Tuple[float, float]:\n",
    "    \"\"\"\n",
    "    Returns a tuple of scaling factors between meters and 2d gps coordinates. This can be used to convert \n",
    "    an entire numpy array of meter values to longitude and latitude via multiplication by the returned \n",
    "    tuple.\n",
    "    \"\"\"\n",
    "    return meters_to_lon(lat, 1), meters_to_lat(1)\n",
    "\n",
    "\n",
    "def gps_dist(xy1: np.array, xy2: np.array) -> np.array:\n",
    "    \"\"\"\n",
    "    Get the pairwise distance between the arrays of 2d-gps coordinates (longitude, latitude) in meters.\n",
    "    \"\"\"\n",
    "    return np.linalg.norm((xy1 - xy2) * gps_to_meters(lat=xy1[1]), axis=-1)"
   ]
  },
  {
   "cell_type": "markdown",
   "id": "524f6f5e",
   "metadata": {},
   "source": [
    "# Example"
   ]
  },
  {
   "cell_type": "code",
   "execution_count": 3,
   "id": "82397030",
   "metadata": {},
   "outputs": [],
   "source": [
    "import osmnx as ox \n",
    "import pandas as pd "
   ]
  },
  {
   "cell_type": "code",
   "execution_count": 4,
   "id": "b498d5b1",
   "metadata": {},
   "outputs": [],
   "source": [
    "G = ox.graph_from_place('New Delhi')\n",
    "pm = pd.read_csv('../TF/Data/DAP_CPCB_all', \n",
    "                index_col='timestamp', \n",
    "                parse_dates=['timestamp'],)"
   ]
  },
  {
   "cell_type": "markdown",
   "id": "6bf4495b",
   "metadata": {},
   "source": [
    "Let us find the distance between the coordinates of one of the measurements in the pm DataFrame and all of the points in the graph of New Delhi. "
   ]
  },
  {
   "cell_type": "code",
   "execution_count": 5,
   "id": "049a48e1",
   "metadata": {},
   "outputs": [
    {
     "name": "stdout",
     "output_type": "stream",
     "text": [
      "The distances in degrees are \n",
      "[[0.11569675 0.03148205]\n",
      " [0.11547885 0.03091505]\n",
      " [0.11538995 0.03054045]\n",
      " ...\n",
      " [0.11159835 0.03153555]\n",
      " [0.15846795 0.03184135]\n",
      " [0.15914955 0.02963805]]\n",
      "The distances converted from degrees to meters are \n",
      "[[11311.09812887  3480.025807  ]\n",
      " [11289.79512526  3417.349627  ]\n",
      " [11281.10381264  3375.941343  ]\n",
      " ...\n",
      " [10910.41786282  3485.939697  ]\n",
      " [15492.62648026  3519.742829  ]\n",
      " [15559.26313587  3276.190047  ]]\n",
      "The distances converted from meters back to degrees are \n",
      "[[0.11569675 0.03148205]\n",
      " [0.11547885 0.03091505]\n",
      " [0.11538995 0.03054045]\n",
      " ...\n",
      " [0.11159835 0.03153555]\n",
      " [0.15846795 0.03184135]\n",
      " [0.15914955 0.02963805]]\n"
     ]
    }
   ],
   "source": [
    "G_gps = extract_positions(G=G)\n",
    "pm_gps = pm[['gpsLongitude', 'gpsLatitude']].values[0]\n",
    "\n",
    "dists = np.abs(G_gps - pm_gps)\n",
    "dists_meters = dists * gps_to_meters(lat=pm_gps[1])\n",
    "dists_gps = dists_meters * meters_to_gps(lat=pm_gps[1])\n",
    "print(f\"The distances in degrees are \\n{dists}\\n\"\\\n",
    "      f\"The distances converted from degrees to meters are \\n{dists_meters}\\n\"\\\n",
    "      f\"The distances converted from meters back to degrees are \\n{dists_gps}\")"
   ]
  }
 ],
 "metadata": {
  "kernelspec": {
   "display_name": "Python 3 (ipykernel)",
   "language": "python",
   "name": "python3"
  },
  "language_info": {
   "codemirror_mode": {
    "name": "ipython",
    "version": 3
   },
   "file_extension": ".py",
   "mimetype": "text/x-python",
   "name": "python",
   "nbconvert_exporter": "python",
   "pygments_lexer": "ipython3",
   "version": "3.9.13"
  }
 },
 "nbformat": 4,
 "nbformat_minor": 5
}
