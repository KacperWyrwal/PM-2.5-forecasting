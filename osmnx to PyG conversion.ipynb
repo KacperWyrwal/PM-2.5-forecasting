{
 "cells": [
  {
   "cell_type": "markdown",
   "id": "ed576d3b",
   "metadata": {},
   "source": [
    "# Dependencies"
   ]
  },
  {
   "cell_type": "code",
   "execution_count": 15,
   "id": "89fa79c5",
   "metadata": {},
   "outputs": [],
   "source": [
    "import numpy as np\n",
    "import torch_geometric as pyg\n",
    "import networkx as nx\n",
    "\n",
    "from typing import Tuple"
   ]
  },
  {
   "cell_type": "markdown",
   "id": "dd51d14d",
   "metadata": {},
   "source": [
    "# Overview \n",
    "These functions will allow you to convert an osmnx graph into a Pytorch Geometric data object. "
   ]
  },
  {
   "cell_type": "code",
   "execution_count": 21,
   "id": "0240830f",
   "metadata": {},
   "outputs": [],
   "source": [
    "def clear_node_features(G: nx.Graph, ignore: Tuple[str, ...] = ('x', 'y')) -> None:\n",
    "    \"\"\"\n",
    "    Remove node features from the graph G except those given in ignore. \n",
    "    \"\"\"\n",
    "    for _, attr_dict in G.nodes(data=True):\n",
    "        temp = {f: attr_dict[f] for f in ignore}\n",
    "        attr_dict.clear()\n",
    "        attr_dict.update(temp)\n",
    "\n",
    "\n",
    "def clear_edge_features(G: nx.Graph, ignore: Tuple[str, ...] = ('length', )) -> None:\n",
    "    \"\"\"\n",
    "    Remove node features from the graph G except those given in ignore. \n",
    "    \"\"\"\n",
    "    for u, v, attr_dict in G.edges(data=True):\n",
    "        temp = {f: attr_dict[f] for f in ignore}\n",
    "        attr_dict.clear()\n",
    "        attr_dict.update(temp)\n",
    "\n",
    "\n",
    "def extract_pos(data: pyg.data.Data, x_idx: int, y_idx: int) -> None:\n",
    "    \"\"\"\n",
    "    Move the x, y coordinates from the x dictionary of the data object into the new pos dictionary. \n",
    "    \"\"\"\n",
    "    data.pos = data.x[:, [x_idx, y_idx]]\n",
    "    data.x = data.x[:, np.delete(np.arange(data.x.shape[1]), [x_idx, y_idx])]\n",
    "\n",
    "\n",
    "def osmnx_to_pyg(G: nx.Graph, node_features: Tuple[str, ...] = ('x', 'y'), \n",
    "                 edge_features: Tuple[str, ...] = ('length', ), pos: bool = True, inplace: bool = False)\\\n",
    "    -> pyg.data.Data: \n",
    "    \"\"\"\n",
    "    Convert a networkx graph G into a Pytorch Geometric data object keeping the desired node features\n",
    "    and edge features. Additionally, if the nodes features contain the 'x' and 'y' keys and pos is given \n",
    "    as True, the x and y features are extracted to a separate 'pos' dictionary of the returned data object.\n",
    "    \"\"\"\n",
    "    \n",
    "    if inplace is False: \n",
    "        G = G.copy()\n",
    "\n",
    "    clear_node_features(G, ignore=node_features)\n",
    "    clear_edge_features(G, ignore=edge_features)\n",
    "\n",
    "    data = pyg.utils.from_networkx(G, group_node_attrs=node_features, group_edge_attrs=edge_features)\n",
    "\n",
    "    if pos is True:\n",
    "        extract_pos(data, x_idx=node_features.index('x'), y_idx=node_features.index('y'))\n",
    "\n",
    "    return data"
   ]
  },
  {
   "cell_type": "markdown",
   "id": "730ed12f",
   "metadata": {},
   "source": [
    "# Example"
   ]
  },
  {
   "cell_type": "code",
   "execution_count": 1,
   "id": "c5d5fb76",
   "metadata": {},
   "outputs": [],
   "source": [
    "import osmnx as ox "
   ]
  },
  {
   "cell_type": "code",
   "execution_count": 23,
   "id": "1d818c57",
   "metadata": {},
   "outputs": [
    {
     "data": {
      "text/plain": [
       "(tensor([], size=(16802, 0)),\n",
       " tensor([[77.1644, 28.5384],\n",
       "         [77.1646, 28.5390],\n",
       "         [77.1647, 28.5394],\n",
       "         ...,\n",
       "         [77.1253, 28.5861],\n",
       "         [77.1110, 28.5855],\n",
       "         [77.1134, 28.5811]]))"
      ]
     },
     "execution_count": 23,
     "metadata": {},
     "output_type": "execute_result"
    }
   ],
   "source": [
    "G = ox.graph_from_place('New Delhi')\n",
    "data = osmnx_to_pyg(G=G)"
   ]
  },
  {
   "cell_type": "code",
   "execution_count": 27,
   "id": "667aa0ff",
   "metadata": {},
   "outputs": [
    {
     "name": "stdout",
     "output_type": "stream",
     "text": [
      "data.x=tensor([], size=(16802, 0)) is empty because all features were extracted to \n",
      "data.pos=tensor([[77.1644, 28.5384],\n",
      "        [77.1646, 28.5390],\n",
      "        [77.1647, 28.5394],\n",
      "        ...,\n",
      "        [77.1253, 28.5861],\n",
      "        [77.1110, 28.5855],\n",
      "        [77.1134, 28.5811]])\n"
     ]
    }
   ],
   "source": [
    "print(f\"{data.x=} is empty because all features were extracted to \\n{data.pos=}\")"
   ]
  }
 ],
 "metadata": {
  "kernelspec": {
   "display_name": "Python 3 (ipykernel)",
   "language": "python",
   "name": "python3"
  },
  "language_info": {
   "codemirror_mode": {
    "name": "ipython",
    "version": 3
   },
   "file_extension": ".py",
   "mimetype": "text/x-python",
   "name": "python",
   "nbconvert_exporter": "python",
   "pygments_lexer": "ipython3",
   "version": "3.9.13"
  }
 },
 "nbformat": 4,
 "nbformat_minor": 5
}
