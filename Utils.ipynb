{
 "cells": [
  {
   "cell_type": "markdown",
   "id": "dea269da",
   "metadata": {},
   "source": [
    "# Dependencies"
   ]
  },
  {
   "cell_type": "code",
   "execution_count": 1,
   "id": "4d4010bb",
   "metadata": {},
   "outputs": [],
   "source": [
    "import numpy as np\n",
    "import pandas as pd\n",
    "\n",
    "from functools import wraps\n",
    "from time import perf_counter\n",
    "from sklearn.preprocessing import StandardScaler\n",
    "\n",
    "from typing import Callable, List, Iterable\n",
    "from numpy.typing import ArrayLike"
   ]
  },
  {
   "cell_type": "markdown",
   "id": "29d17021",
   "metadata": {},
   "source": [
    "# Overview \n",
    "These are functions which I have used repeatedly in my notebooks, but do not belong to any specific class. "
   ]
  },
  {
   "cell_type": "code",
   "execution_count": 2,
   "id": "7e3674f9",
   "metadata": {},
   "outputs": [],
   "source": [
    "def timeit(func: Callable) -> Callable:\n",
    "    \"\"\"\n",
    "    Timing wrapper. Useful for evaluating performance when writing code operating on large graphs. \n",
    "    \"\"\"\n",
    "    @wraps(func)\n",
    "    def timeit_wrapper(*args, **kwargs):\n",
    "        start_time = perf_counter()\n",
    "        result = func(*args, **kwargs)\n",
    "        end_time = perf_counter()\n",
    "        total_time = end_time - start_time\n",
    "        print(f'Function {func.__name__} took {total_time:.6f} seconds')\n",
    "        return result\n",
    "    return timeit_wrapper\n",
    "\n",
    "\n",
    "def find_nearest(arr: ArrayLike, vals: ArrayLike) -> np.array:\n",
    "    \"\"\"\n",
    "    Find the indices of the nearest values in arr from vals. \n",
    "    \"\"\"\n",
    "    idx = np.searchsorted(arr, vals)\n",
    "    return idx - (abs(arr[idx-1] - vals) < abs(arr[idx % (len(arr))] - vals))\n",
    "\n",
    "\n",
    "def delete_indices(arr: List, indices: ArrayLike) -> None:\n",
    "    \"\"\"\n",
    "    Delete indices in arr from indices. \n",
    "    \"\"\"\n",
    "    for idx in sorted(indices, reverse=True):\n",
    "        del arr[idx]\n",
    "        \n",
    "        \n",
    "class MissingSequence:\n",
    "    \"\"\"\n",
    "    Dummy class representing a missing sequence. Always returns None when indexed and when checking length.\n",
    "    \"\"\"\n",
    "    def __getitem__(self, key):\n",
    "        return None\n",
    "    def __len__(self, key):\n",
    "        return None\n",
    "    \n",
    "\n",
    "def standardize(df: pd.DataFrame, cols: Iterable[str]) -> StandardScaler:\n",
    "    \"\"\"\n",
    "    Standardize given columns of the given dataframe and return a fitted StandardScaler instance.\n",
    "    \"\"\"\n",
    "    scaler = StandardScaler().fit(df[cols])\n",
    "    df[cols] = scaler.transform(df[cols])\n",
    "    return scaler\n",
    "\n",
    "\n",
    "def persistent_gps(batch_gps: List[np.array]) -> Set[Tuple[float, float]]:\n",
    "    \"\"\"\n",
    "    Return the gps coordinates present in all snapshots of a given batch.\n",
    "    \"\"\"\n",
    "    return set.intersection(*(set(map(tuple, snapshot)) for snapshot in batch_gps))"
   ]
  }
 ],
 "metadata": {
  "kernelspec": {
   "display_name": "Python 3 (ipykernel)",
   "language": "python",
   "name": "python3"
  },
  "language_info": {
   "codemirror_mode": {
    "name": "ipython",
    "version": 3
   },
   "file_extension": ".py",
   "mimetype": "text/x-python",
   "name": "python",
   "nbconvert_exporter": "python",
   "pygments_lexer": "ipython3",
   "version": "3.9.13"
  }
 },
 "nbformat": 4,
 "nbformat_minor": 5
}
