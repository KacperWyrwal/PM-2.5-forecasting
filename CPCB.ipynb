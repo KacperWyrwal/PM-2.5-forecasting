{
 "cells": [
  {
   "cell_type": "code",
   "execution_count": 88,
   "id": "8375f4a6",
   "metadata": {},
   "outputs": [],
   "source": [
    "import numpy as np \n",
    "import pandas as pd \n",
    "import seaborn as sns \n",
    "import os \n",
    "import re \n",
    "from datetime import datetime\n",
    "\n",
    "from matplotlib import pyplot as plt \n",
    "from typing import Iterable, Union\n",
    "from utils import listdir_full, timeit\n",
    "from operator import itemgetter"
   ]
  },
  {
   "cell_type": "code",
   "execution_count": 4,
   "id": "5d46ecb2",
   "metadata": {},
   "outputs": [],
   "source": [
    "site_locations_path = '../CPCB/site_locations_040619.xlsx' # Replace with your path to the site locations file\n",
    "\n",
    "site_locations_df = pd.read_excel(site_locations_path, \n",
    "                    names=['site name', 'gpsLatitude', 'gpsLongitude', 'site'], \n",
    "                    dtype={'gpsLatitude': float, 'gpsLongitude': float}, \n",
    "                    usecols=['gpsLatitude', 'gpsLongitude', 'site'], \n",
    "                    index_col='site',\n",
    "                   )\n",
    "site_to_gps = site_locations_df.T.to_dict(orient='list')"
   ]
  },
  {
   "cell_type": "code",
   "execution_count": 163,
   "id": "b5632990",
   "metadata": {},
   "outputs": [],
   "source": [
    "def read_cpcb(path):\n",
    "    timestamp_col = 'From Date' \n",
    "    return pd.read_csv(\n",
    "            path, \n",
    "            na_values=['None', ''], \n",
    "            dtype={'PM2.5': float}, \n",
    "            parse_dates = [timestamp_col], \n",
    "            usecols = [timestamp_col, 'PM2.5'], \n",
    "            date_parser=lambda x: datetime.strptime(x, '%d-%m-%Y %H:%M')\n",
    "        ).rename(columns={'PM2.5': 'pm2_5', timestamp_col: 'timestamp'}).set_index('timestamp')"
   ]
  },
  {
   "cell_type": "code",
   "execution_count": 164,
   "id": "f89226e1",
   "metadata": {},
   "outputs": [],
   "source": [
    "@timeit\n",
    "def read_all(path):\n",
    "    return pd.concat(\n",
    "        read_cpcb(os.path.join(root, file)).assign(site=file.split('.')[0]) \n",
    "                  for root, _, files in os.walk(path) for file in files\n",
    "    )"
   ]
  },
  {
   "cell_type": "code",
   "execution_count": 158,
   "id": "34098228",
   "metadata": {},
   "outputs": [],
   "source": [
    "def match_prefix(string: str, prefixes: Iterable[str]) -> Union[str, None]:\n",
    "    for prefix in prefixes:\n",
    "        if string.startswith(prefix):\n",
    "            return prefix \n",
    "\n",
    "\n",
    "def clean_2019_jan_june(from_path: str, site_names: Iterable[str], to_path: str = None) -> None:\n",
    "    \"\"\"\n",
    "    Transform the 2019 Jan-June data into the format consistent with the rest of the dataset. \n",
    "    \"\"\"\n",
    "    if to_path is None:\n",
    "        to_path = f'{from_path}_cleaned'\n",
    "    if not os.path.exists(to_path):\n",
    "        os.makedirs(to_path)\n",
    "    \n",
    "    for file_name in os.listdir(from_path):\n",
    "        df = pd.read_csv(\n",
    "            os.path.join(from_path, file_name), \n",
    "            usecols=['From.Date', 'To.Date.x', 'PM2.5']\n",
    "        ).rename(columns={'From.Date': 'From Date', 'To.Date.x': 'To Date'})\n",
    "        \n",
    "        # get station name matching the site locations file\n",
    "        if (file_name_cleaned := match_prefix(file_name, site_names)) is not None: \n",
    "                file_name = file_name_cleaned\n",
    "        df.to_csv(os.path.join(to_path, file_name))"
   ]
  },
  {
   "cell_type": "code",
   "execution_count": 134,
   "id": "1e7dafaa",
   "metadata": {},
   "outputs": [],
   "source": [
    "path = '../CPCB/CPCB Data 2019/Jan-June'\n",
    "clean_2019_jan_june(path, site_to_gps.keys())"
   ]
  },
  {
   "cell_type": "markdown",
   "id": "b3b3e952",
   "metadata": {},
   "source": [
    "## Merging cleaned data"
   ]
  },
  {
   "cell_type": "markdown",
   "id": "2e08d640",
   "metadata": {},
   "source": [
    "Make sure that your directory only contains folders and csv files "
   ]
  },
  {
   "cell_type": "code",
   "execution_count": 165,
   "id": "9e8496cd",
   "metadata": {
    "scrolled": true
   },
   "outputs": [
    {
     "name": "stdout",
     "output_type": "stream",
     "text": [
      "Function read_all took 16.019567 seconds\n"
     ]
    }
   ],
   "source": [
    "path = '../CPCB/CPCB Data/'\n",
    "df = read_all(path).sort_index()"
   ]
  },
  {
   "cell_type": "code",
   "execution_count": 180,
   "id": "f4712ad8",
   "metadata": {},
   "outputs": [],
   "source": [
    "df = df[df['site'].isin(site_to_gps.keys())]"
   ]
  },
  {
   "cell_type": "code",
   "execution_count": 181,
   "id": "65d5ab2f",
   "metadata": {},
   "outputs": [],
   "source": [
    "df.to_csv('./data/CPCB_all')"
   ]
  },
  {
   "cell_type": "markdown",
   "id": "bff754c5",
   "metadata": {},
   "source": [
    "# Adding coordinates to stations"
   ]
  },
  {
   "cell_type": "code",
   "execution_count": 205,
   "id": "c8a08a20",
   "metadata": {},
   "outputs": [],
   "source": [
    "df = pd.read_csv('./data/CPCB_all', index_col='timestamp')"
   ]
  },
  {
   "cell_type": "code",
   "execution_count": 220,
   "id": "7a4726f6",
   "metadata": {},
   "outputs": [],
   "source": [
    "df[['gpsLatitude', 'gpsLongitude']] = df['site'].map(site_to_gps).\\\n",
    "    transform({'gpsLatitude': itemgetter(0), 'gpsLongitude': itemgetter(1)})\n",
    "df.drop(columns='site', inplace=True)"
   ]
  },
  {
   "cell_type": "code",
   "execution_count": 221,
   "id": "ca04f2ad",
   "metadata": {},
   "outputs": [
    {
     "data": {
      "text/html": [
       "<div>\n",
       "<style scoped>\n",
       "    .dataframe tbody tr th:only-of-type {\n",
       "        vertical-align: middle;\n",
       "    }\n",
       "\n",
       "    .dataframe tbody tr th {\n",
       "        vertical-align: top;\n",
       "    }\n",
       "\n",
       "    .dataframe thead th {\n",
       "        text-align: right;\n",
       "    }\n",
       "</style>\n",
       "<table border=\"1\" class=\"dataframe\">\n",
       "  <thead>\n",
       "    <tr style=\"text-align: right;\">\n",
       "      <th></th>\n",
       "      <th>pm2_5</th>\n",
       "      <th>gpsLatitude</th>\n",
       "      <th>gpsLongitude</th>\n",
       "    </tr>\n",
       "    <tr>\n",
       "      <th>timestamp</th>\n",
       "      <th></th>\n",
       "      <th></th>\n",
       "      <th></th>\n",
       "    </tr>\n",
       "  </thead>\n",
       "  <tbody>\n",
       "    <tr>\n",
       "      <th>2019-01-01 00:00:00</th>\n",
       "      <td>474.50</td>\n",
       "      <td>28.684678</td>\n",
       "      <td>77.076574</td>\n",
       "    </tr>\n",
       "    <tr>\n",
       "      <th>2019-01-01 00:00:00</th>\n",
       "      <td>351.79</td>\n",
       "      <td>28.725650</td>\n",
       "      <td>77.201157</td>\n",
       "    </tr>\n",
       "    <tr>\n",
       "      <th>2019-01-01 00:00:00</th>\n",
       "      <td>309.47</td>\n",
       "      <td>28.624548</td>\n",
       "      <td>77.357710</td>\n",
       "    </tr>\n",
       "    <tr>\n",
       "      <th>2019-01-01 00:00:00</th>\n",
       "      <td>254.00</td>\n",
       "      <td>28.408842</td>\n",
       "      <td>77.309908</td>\n",
       "    </tr>\n",
       "    <tr>\n",
       "      <th>2019-01-01 00:00:00</th>\n",
       "      <td>361.50</td>\n",
       "      <td>28.814792</td>\n",
       "      <td>77.098075</td>\n",
       "    </tr>\n",
       "    <tr>\n",
       "      <th>...</th>\n",
       "      <td>...</td>\n",
       "      <td>...</td>\n",
       "      <td>...</td>\n",
       "    </tr>\n",
       "    <tr>\n",
       "      <th>2020-01-31 17:45:00</th>\n",
       "      <td>33.44</td>\n",
       "      <td>28.591825</td>\n",
       "      <td>77.227307</td>\n",
       "    </tr>\n",
       "    <tr>\n",
       "      <th>2020-01-31 17:45:00</th>\n",
       "      <td>50.00</td>\n",
       "      <td>28.580280</td>\n",
       "      <td>77.233829</td>\n",
       "    </tr>\n",
       "    <tr>\n",
       "      <th>2020-01-31 17:45:00</th>\n",
       "      <td>94.00</td>\n",
       "      <td>28.732820</td>\n",
       "      <td>77.170633</td>\n",
       "    </tr>\n",
       "    <tr>\n",
       "      <th>2020-01-31 17:45:00</th>\n",
       "      <td>65.48</td>\n",
       "      <td>28.609090</td>\n",
       "      <td>77.032541</td>\n",
       "    </tr>\n",
       "    <tr>\n",
       "      <th>2020-01-31 17:45:00</th>\n",
       "      <td>63.00</td>\n",
       "      <td>28.699793</td>\n",
       "      <td>77.165453</td>\n",
       "    </tr>\n",
       "  </tbody>\n",
       "</table>\n",
       "<p>973264 rows × 3 columns</p>\n",
       "</div>"
      ],
      "text/plain": [
       "                      pm2_5  gpsLatitude  gpsLongitude\n",
       "timestamp                                             \n",
       "2019-01-01 00:00:00  474.50    28.684678     77.076574\n",
       "2019-01-01 00:00:00  351.79    28.725650     77.201157\n",
       "2019-01-01 00:00:00  309.47    28.624548     77.357710\n",
       "2019-01-01 00:00:00  254.00    28.408842     77.309908\n",
       "2019-01-01 00:00:00  361.50    28.814792     77.098075\n",
       "...                     ...          ...           ...\n",
       "2020-01-31 17:45:00   33.44    28.591825     77.227307\n",
       "2020-01-31 17:45:00   50.00    28.580280     77.233829\n",
       "2020-01-31 17:45:00   94.00    28.732820     77.170633\n",
       "2020-01-31 17:45:00   65.48    28.609090     77.032541\n",
       "2020-01-31 17:45:00   63.00    28.699793     77.165453\n",
       "\n",
       "[973264 rows x 3 columns]"
      ]
     },
     "execution_count": 221,
     "metadata": {},
     "output_type": "execute_result"
    }
   ],
   "source": [
    "df"
   ]
  },
  {
   "cell_type": "code",
   "execution_count": 222,
   "id": "1f751a5c",
   "metadata": {
    "scrolled": false
   },
   "outputs": [],
   "source": [
    "df.to_csv('./data/CPCB_all')"
   ]
  },
  {
   "cell_type": "markdown",
   "id": "73b1ed6f",
   "metadata": {},
   "source": [
    "# Combine CPCB data (with coordinates) with DAPHNE"
   ]
  },
  {
   "cell_type": "code",
   "execution_count": null,
   "id": "feee7752",
   "metadata": {},
   "outputs": [],
   "source": [
    "def is_dap(file_name: str) -> bool: \n",
    "    match = re.match(r'(?P<code>[A-Z]{3})', file_name)\n",
    "    if match is None: \n",
    "        return False \n",
    "    \n",
    "    return match.group('code') in ['DAP', 'DMC']\n",
    "\n",
    "\n",
    "def read_dap(path: str) -> pd.DataFrame:\n",
    "    if not is_dap(os.path.basename(path)):\n",
    "        return None \n",
    "    \n",
    "    cols = ['pm2_5', 'gpsLatitude', 'gpsLongitude']\n",
    "    df = pd.read_csv(\n",
    "        path, \n",
    "        index_col='timestamp',\n",
    "        parse_dates=['timestamp'],\n",
    "    )\n",
    "    if not set(cols).issubset(df.columns):\n",
    "        return None \n",
    "    \n",
    "    return df[cols]"
   ]
  },
  {
   "cell_type": "code",
   "execution_count": null,
   "id": "80c0d958",
   "metadata": {},
   "outputs": [],
   "source": [
    "dap = read_dap('./data/DAP_all_processed')"
   ]
  },
  {
   "cell_type": "code",
   "execution_count": null,
   "id": "810eb155",
   "metadata": {
    "scrolled": true
   },
   "outputs": [],
   "source": [
    "dap"
   ]
  },
  {
   "cell_type": "code",
   "execution_count": null,
   "id": "a30c9130",
   "metadata": {},
   "outputs": [],
   "source": [
    "a = pd.concat((df, dap)).sort_index()"
   ]
  },
  {
   "cell_type": "code",
   "execution_count": null,
   "id": "e5dc5c49",
   "metadata": {},
   "outputs": [],
   "source": [
    "a.to_csv('./data/DAP_CPCB_all')"
   ]
  },
  {
   "cell_type": "code",
   "execution_count": null,
   "id": "e3eb00d4",
   "metadata": {},
   "outputs": [],
   "source": [
    "df = a"
   ]
  }
 ],
 "metadata": {
  "kernelspec": {
   "display_name": "Python 3 (ipykernel)",
   "language": "python",
   "name": "python3"
  },
  "language_info": {
   "codemirror_mode": {
    "name": "ipython",
    "version": 3
   },
   "file_extension": ".py",
   "mimetype": "text/x-python",
   "name": "python",
   "nbconvert_exporter": "python",
   "pygments_lexer": "ipython3",
   "version": "3.9.13"
  }
 },
 "nbformat": 4,
 "nbformat_minor": 5
}
